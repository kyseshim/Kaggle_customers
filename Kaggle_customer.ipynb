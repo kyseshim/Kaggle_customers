{
 "cells": [
  {
   "cell_type": "code",
   "execution_count": 1,
   "id": "c83376c2",
   "metadata": {
    "ExecuteTime": {
     "end_time": "2022-08-27T17:09:35.764551Z",
     "start_time": "2022-08-27T17:09:32.368399Z"
    }
   },
   "outputs": [],
   "source": [
    "import pandas as pd\n",
    "import urllib\n",
    "import json\n",
    "import seaborn as sns\n",
    "import matplotlib.pyplot as plt\n",
    "import matplotlib.image as mpimg\n",
    "import datetime\n",
    "import numpy as np\n",
    "from statsmodels.tsa.seasonal import seasonal_decompose\n",
    "from sklearn.preprocessing import StandardScaler\n",
    "from sklearn.cluster import KMeans"
   ]
  },
  {
   "cell_type": "code",
   "execution_count": 19,
   "id": "dc7b7ce3",
   "metadata": {
    "ExecuteTime": {
     "end_time": "2022-08-27T17:30:24.792997Z",
     "start_time": "2022-08-27T17:30:24.220094Z"
    }
   },
   "outputs": [],
   "source": [
    "customer = pd.read_csv(\"data/olist_customers_dataset.csv\")\n",
    "order = pd.read_csv(\"data/olist_orders_dataset.csv\")\n",
    "item = pd.read_csv(\"data/olist_order_items_dataset.csv\")"
   ]
  },
  {
   "cell_type": "code",
   "execution_count": 12,
   "id": "48f026cb",
   "metadata": {
    "ExecuteTime": {
     "end_time": "2022-08-27T17:27:05.964289Z",
     "start_time": "2022-08-27T17:27:05.943345Z"
    }
   },
   "outputs": [
    {
     "data": {
      "text/html": [
       "<div>\n",
       "<style scoped>\n",
       "    .dataframe tbody tr th:only-of-type {\n",
       "        vertical-align: middle;\n",
       "    }\n",
       "\n",
       "    .dataframe tbody tr th {\n",
       "        vertical-align: top;\n",
       "    }\n",
       "\n",
       "    .dataframe thead th {\n",
       "        text-align: right;\n",
       "    }\n",
       "</style>\n",
       "<table border=\"1\" class=\"dataframe\">\n",
       "  <thead>\n",
       "    <tr style=\"text-align: right;\">\n",
       "      <th></th>\n",
       "      <th>customer_id</th>\n",
       "      <th>customer_unique_id</th>\n",
       "      <th>customer_zip_code_prefix</th>\n",
       "      <th>customer_city</th>\n",
       "      <th>customer_state</th>\n",
       "    </tr>\n",
       "  </thead>\n",
       "  <tbody>\n",
       "    <tr>\n",
       "      <th>0</th>\n",
       "      <td>06b8999e2fba1a1fbc88172c00ba8bc7</td>\n",
       "      <td>861eff4711a542e4b93843c6dd7febb0</td>\n",
       "      <td>14409</td>\n",
       "      <td>franca</td>\n",
       "      <td>SP</td>\n",
       "    </tr>\n",
       "    <tr>\n",
       "      <th>1</th>\n",
       "      <td>18955e83d337fd6b2def6b18a428ac77</td>\n",
       "      <td>290c77bc529b7ac935b93aa66c333dc3</td>\n",
       "      <td>9790</td>\n",
       "      <td>sao bernardo do campo</td>\n",
       "      <td>SP</td>\n",
       "    </tr>\n",
       "    <tr>\n",
       "      <th>2</th>\n",
       "      <td>4e7b3e00288586ebd08712fdd0374a03</td>\n",
       "      <td>060e732b5b29e8181a18229c7b0b2b5e</td>\n",
       "      <td>1151</td>\n",
       "      <td>sao paulo</td>\n",
       "      <td>SP</td>\n",
       "    </tr>\n",
       "    <tr>\n",
       "      <th>3</th>\n",
       "      <td>b2b6027bc5c5109e529d4dc6358b12c3</td>\n",
       "      <td>259dac757896d24d7702b9acbbff3f3c</td>\n",
       "      <td>8775</td>\n",
       "      <td>mogi das cruzes</td>\n",
       "      <td>SP</td>\n",
       "    </tr>\n",
       "    <tr>\n",
       "      <th>4</th>\n",
       "      <td>4f2d8ab171c80ec8364f7c12e35b23ad</td>\n",
       "      <td>345ecd01c38d18a9036ed96c73b8d066</td>\n",
       "      <td>13056</td>\n",
       "      <td>campinas</td>\n",
       "      <td>SP</td>\n",
       "    </tr>\n",
       "  </tbody>\n",
       "</table>\n",
       "</div>"
      ],
      "text/plain": [
       "                        customer_id                customer_unique_id  \\\n",
       "0  06b8999e2fba1a1fbc88172c00ba8bc7  861eff4711a542e4b93843c6dd7febb0   \n",
       "1  18955e83d337fd6b2def6b18a428ac77  290c77bc529b7ac935b93aa66c333dc3   \n",
       "2  4e7b3e00288586ebd08712fdd0374a03  060e732b5b29e8181a18229c7b0b2b5e   \n",
       "3  b2b6027bc5c5109e529d4dc6358b12c3  259dac757896d24d7702b9acbbff3f3c   \n",
       "4  4f2d8ab171c80ec8364f7c12e35b23ad  345ecd01c38d18a9036ed96c73b8d066   \n",
       "\n",
       "   customer_zip_code_prefix          customer_city customer_state  \n",
       "0                     14409                 franca             SP  \n",
       "1                      9790  sao bernardo do campo             SP  \n",
       "2                      1151              sao paulo             SP  \n",
       "3                      8775        mogi das cruzes             SP  \n",
       "4                     13056               campinas             SP  "
      ]
     },
     "execution_count": 12,
     "metadata": {},
     "output_type": "execute_result"
    }
   ],
   "source": [
    "customer.head(5)"
   ]
  },
  {
   "cell_type": "code",
   "execution_count": 13,
   "id": "1cdd29c5",
   "metadata": {
    "ExecuteTime": {
     "end_time": "2022-08-27T17:27:10.656409Z",
     "start_time": "2022-08-27T17:27:10.623493Z"
    }
   },
   "outputs": [
    {
     "name": "stdout",
     "output_type": "stream",
     "text": [
      "<class 'pandas.core.frame.DataFrame'>\n",
      "RangeIndex: 99441 entries, 0 to 99440\n",
      "Data columns (total 5 columns):\n",
      " #   Column                    Non-Null Count  Dtype \n",
      "---  ------                    --------------  ----- \n",
      " 0   customer_id               99441 non-null  object\n",
      " 1   customer_unique_id        99441 non-null  object\n",
      " 2   customer_zip_code_prefix  99441 non-null  int64 \n",
      " 3   customer_city             99441 non-null  object\n",
      " 4   customer_state            99441 non-null  object\n",
      "dtypes: int64(1), object(4)\n",
      "memory usage: 3.8+ MB\n"
     ]
    }
   ],
   "source": [
    "customer.info()"
   ]
  },
  {
   "cell_type": "code",
   "execution_count": 14,
   "id": "9654dd15",
   "metadata": {
    "ExecuteTime": {
     "end_time": "2022-08-27T17:27:18.217351Z",
     "start_time": "2022-08-27T17:27:18.104527Z"
    }
   },
   "outputs": [
    {
     "data": {
      "text/plain": [
       "customer_unique_id\n",
       "8d50f5eadf50201ccdcedfb9e2ac8455    17\n",
       "3e43e6105506432c953e165fb2acf44c     9\n",
       "6469f99c1f9dfae7733b25662e7f1782     7\n",
       "ca77025e7201e3b30c44b472ff346268     7\n",
       "1b6c7548a2a1f9037c1fd3ddfed95f33     7\n",
       "                                    ..\n",
       "5657dfebff5868c4dc7e8355fea865c4     1\n",
       "5657596addb4d7b07b32cd330614bdf8     1\n",
       "5656eb169546146caeab56c3ffc3d268     1\n",
       "5656a8fabc8629ff96b2bc14f8c09a27     1\n",
       "ffffd2657e2aad2907e67c3e9daecbeb     1\n",
       "Length: 96096, dtype: int64"
      ]
     },
     "execution_count": 14,
     "metadata": {},
     "output_type": "execute_result"
    }
   ],
   "source": [
    "customer.groupby('customer_unique_id').size().sort_values(ascending=False)\n",
    "#customer.groupby('customer_id').size().sort_values(ascending=False)"
   ]
  },
  {
   "cell_type": "code",
   "execution_count": 20,
   "id": "3584cbf0",
   "metadata": {
    "ExecuteTime": {
     "end_time": "2022-08-27T17:30:33.758075Z",
     "start_time": "2022-08-27T17:30:33.615205Z"
    }
   },
   "outputs": [
    {
     "data": {
      "text/html": [
       "<div>\n",
       "<style scoped>\n",
       "    .dataframe tbody tr th:only-of-type {\n",
       "        vertical-align: middle;\n",
       "    }\n",
       "\n",
       "    .dataframe tbody tr th {\n",
       "        vertical-align: top;\n",
       "    }\n",
       "\n",
       "    .dataframe thead th {\n",
       "        text-align: right;\n",
       "    }\n",
       "</style>\n",
       "<table border=\"1\" class=\"dataframe\">\n",
       "  <thead>\n",
       "    <tr style=\"text-align: right;\">\n",
       "      <th></th>\n",
       "      <th>order_id</th>\n",
       "      <th>order_item_id</th>\n",
       "      <th>product_id</th>\n",
       "      <th>seller_id</th>\n",
       "      <th>shipping_limit_date</th>\n",
       "      <th>price</th>\n",
       "      <th>freight_value</th>\n",
       "    </tr>\n",
       "  </thead>\n",
       "  <tbody>\n",
       "    <tr>\n",
       "      <th>count</th>\n",
       "      <td>112650</td>\n",
       "      <td>112650.000000</td>\n",
       "      <td>112650</td>\n",
       "      <td>112650</td>\n",
       "      <td>112650</td>\n",
       "      <td>112650.000000</td>\n",
       "      <td>112650.000000</td>\n",
       "    </tr>\n",
       "    <tr>\n",
       "      <th>unique</th>\n",
       "      <td>98666</td>\n",
       "      <td>NaN</td>\n",
       "      <td>32951</td>\n",
       "      <td>3095</td>\n",
       "      <td>93318</td>\n",
       "      <td>NaN</td>\n",
       "      <td>NaN</td>\n",
       "    </tr>\n",
       "    <tr>\n",
       "      <th>top</th>\n",
       "      <td>8272b63d03f5f79c56e9e4120aec44ef</td>\n",
       "      <td>NaN</td>\n",
       "      <td>aca2eb7d00ea1a7b8ebd4e68314663af</td>\n",
       "      <td>6560211a19b47992c3666cc44a7e94c0</td>\n",
       "      <td>2017-07-21 18:25:23</td>\n",
       "      <td>NaN</td>\n",
       "      <td>NaN</td>\n",
       "    </tr>\n",
       "    <tr>\n",
       "      <th>freq</th>\n",
       "      <td>21</td>\n",
       "      <td>NaN</td>\n",
       "      <td>527</td>\n",
       "      <td>2033</td>\n",
       "      <td>21</td>\n",
       "      <td>NaN</td>\n",
       "      <td>NaN</td>\n",
       "    </tr>\n",
       "    <tr>\n",
       "      <th>mean</th>\n",
       "      <td>NaN</td>\n",
       "      <td>1.197834</td>\n",
       "      <td>NaN</td>\n",
       "      <td>NaN</td>\n",
       "      <td>NaN</td>\n",
       "      <td>120.653739</td>\n",
       "      <td>19.990320</td>\n",
       "    </tr>\n",
       "    <tr>\n",
       "      <th>std</th>\n",
       "      <td>NaN</td>\n",
       "      <td>0.705124</td>\n",
       "      <td>NaN</td>\n",
       "      <td>NaN</td>\n",
       "      <td>NaN</td>\n",
       "      <td>183.633928</td>\n",
       "      <td>15.806405</td>\n",
       "    </tr>\n",
       "    <tr>\n",
       "      <th>min</th>\n",
       "      <td>NaN</td>\n",
       "      <td>1.000000</td>\n",
       "      <td>NaN</td>\n",
       "      <td>NaN</td>\n",
       "      <td>NaN</td>\n",
       "      <td>0.850000</td>\n",
       "      <td>0.000000</td>\n",
       "    </tr>\n",
       "    <tr>\n",
       "      <th>25%</th>\n",
       "      <td>NaN</td>\n",
       "      <td>1.000000</td>\n",
       "      <td>NaN</td>\n",
       "      <td>NaN</td>\n",
       "      <td>NaN</td>\n",
       "      <td>39.900000</td>\n",
       "      <td>13.080000</td>\n",
       "    </tr>\n",
       "    <tr>\n",
       "      <th>50%</th>\n",
       "      <td>NaN</td>\n",
       "      <td>1.000000</td>\n",
       "      <td>NaN</td>\n",
       "      <td>NaN</td>\n",
       "      <td>NaN</td>\n",
       "      <td>74.990000</td>\n",
       "      <td>16.260000</td>\n",
       "    </tr>\n",
       "    <tr>\n",
       "      <th>75%</th>\n",
       "      <td>NaN</td>\n",
       "      <td>1.000000</td>\n",
       "      <td>NaN</td>\n",
       "      <td>NaN</td>\n",
       "      <td>NaN</td>\n",
       "      <td>134.900000</td>\n",
       "      <td>21.150000</td>\n",
       "    </tr>\n",
       "    <tr>\n",
       "      <th>max</th>\n",
       "      <td>NaN</td>\n",
       "      <td>21.000000</td>\n",
       "      <td>NaN</td>\n",
       "      <td>NaN</td>\n",
       "      <td>NaN</td>\n",
       "      <td>6735.000000</td>\n",
       "      <td>409.680000</td>\n",
       "    </tr>\n",
       "  </tbody>\n",
       "</table>\n",
       "</div>"
      ],
      "text/plain": [
       "                                order_id  order_item_id  \\\n",
       "count                             112650  112650.000000   \n",
       "unique                             98666            NaN   \n",
       "top     8272b63d03f5f79c56e9e4120aec44ef            NaN   \n",
       "freq                                  21            NaN   \n",
       "mean                                 NaN       1.197834   \n",
       "std                                  NaN       0.705124   \n",
       "min                                  NaN       1.000000   \n",
       "25%                                  NaN       1.000000   \n",
       "50%                                  NaN       1.000000   \n",
       "75%                                  NaN       1.000000   \n",
       "max                                  NaN      21.000000   \n",
       "\n",
       "                              product_id                         seller_id  \\\n",
       "count                             112650                            112650   \n",
       "unique                             32951                              3095   \n",
       "top     aca2eb7d00ea1a7b8ebd4e68314663af  6560211a19b47992c3666cc44a7e94c0   \n",
       "freq                                 527                              2033   \n",
       "mean                                 NaN                               NaN   \n",
       "std                                  NaN                               NaN   \n",
       "min                                  NaN                               NaN   \n",
       "25%                                  NaN                               NaN   \n",
       "50%                                  NaN                               NaN   \n",
       "75%                                  NaN                               NaN   \n",
       "max                                  NaN                               NaN   \n",
       "\n",
       "        shipping_limit_date          price  freight_value  \n",
       "count                112650  112650.000000  112650.000000  \n",
       "unique                93318            NaN            NaN  \n",
       "top     2017-07-21 18:25:23            NaN            NaN  \n",
       "freq                     21            NaN            NaN  \n",
       "mean                    NaN     120.653739      19.990320  \n",
       "std                     NaN     183.633928      15.806405  \n",
       "min                     NaN       0.850000       0.000000  \n",
       "25%                     NaN      39.900000      13.080000  \n",
       "50%                     NaN      74.990000      16.260000  \n",
       "75%                     NaN     134.900000      21.150000  \n",
       "max                     NaN    6735.000000     409.680000  "
      ]
     },
     "execution_count": 20,
     "metadata": {},
     "output_type": "execute_result"
    }
   ],
   "source": [
    "item.describe(include='all')"
   ]
  },
  {
   "cell_type": "code",
   "execution_count": 21,
   "id": "1f318ec5",
   "metadata": {
    "ExecuteTime": {
     "end_time": "2022-08-27T17:30:36.665335Z",
     "start_time": "2022-08-27T17:30:36.380963Z"
    }
   },
   "outputs": [
    {
     "data": {
      "text/plain": [
       "<AxesSubplot:>"
      ]
     },
     "execution_count": 21,
     "metadata": {},
     "output_type": "execute_result"
    },
    {
     "data": {
      "image/png": "[encoded data removed]",
      "text/plain": [
       "<Figure size 432x288 with 1 Axes>"
      ]
     },
     "metadata": {
      "needs_background": "light"
     },
     "output_type": "display_data"
    }
   ],
   "source": [
    "CountStatus = pd.value_counts(item['order_item_id'].values, sort=True)\n",
    "CountStatus.plot.bar()"
   ]
  },
  {
   "cell_type": "markdown",
   "id": "15446406",
   "metadata": {},
   "source": [
    "## Data Merging"
   ]
  },
  {
   "cell_type": "code",
   "execution_count": 27,
   "id": "95879bd0",
   "metadata": {
    "ExecuteTime": {
     "end_time": "2022-08-27T17:48:11.796694Z",
     "start_time": "2022-08-27T17:48:11.548279Z"
    }
   },
   "outputs": [
    {
     "name": "stdout",
     "output_type": "stream",
     "text": [
      "<class 'pandas.core.frame.DataFrame'>\n",
      "Int64Index: 98666 entries, 0 to 98665\n",
      "Data columns (total 14 columns):\n",
      " #   Column                         Non-Null Count  Dtype  \n",
      "---  ------                         --------------  -----  \n",
      " 0   customer_id                    98666 non-null  object \n",
      " 1   customer_unique_id             98666 non-null  object \n",
      " 2   customer_zip_code_prefix       98666 non-null  int64  \n",
      " 3   customer_city                  98666 non-null  object \n",
      " 4   customer_state                 98666 non-null  object \n",
      " 5   order_id                       98666 non-null  object \n",
      " 6   order_status                   98666 non-null  object \n",
      " 7   order_purchase_timestamp       98666 non-null  object \n",
      " 8   order_approved_at              98652 non-null  object \n",
      " 9   order_delivered_carrier_date   97657 non-null  object \n",
      " 10  order_delivered_customer_date  96476 non-null  object \n",
      " 11  order_estimated_delivery_date  98666 non-null  object \n",
      " 12  price                          98666 non-null  float64\n",
      " 13  freight_value                  98666 non-null  float64\n",
      "dtypes: float64(2), int64(1), object(11)\n",
      "memory usage: 11.3+ MB\n"
     ]
    }
   ],
   "source": [
    "order_items_silver = item.groupby('order_id').agg({'price':sum,'freight_value':sum }).reset_index()\n",
    "order_silver=order.merge(order_items_silver,on='order_id',how='inner')\n",
    "orders_customers = customer.merge(order_silver, on='customer_id', how='inner')\n",
    "orders_customers.info()"
   ]
  },
  {
   "cell_type": "markdown",
   "id": "afe32db7",
   "metadata": {},
   "source": [
    "## RFM Variable"
   ]
  },
  {
   "cell_type": "code",
   "execution_count": 29,
   "id": "d359b4c9",
   "metadata": {
    "ExecuteTime": {
     "end_time": "2022-08-27T17:49:04.073618Z",
     "start_time": "2022-08-27T17:49:03.915274Z"
    }
   },
   "outputs": [
    {
     "data": {
      "text/plain": [
       "Timestamp('2018-09-04 09:06:57')"
      ]
     },
     "execution_count": 29,
     "metadata": {},
     "output_type": "execute_result"
    }
   ],
   "source": [
    "max_date = max(pd.to_datetime(orders_customers['order_purchase_timestamp'],  errors='raise')) + datetime.timedelta(days=1)\n",
    "max_date"
   ]
  },
  {
   "cell_type": "code",
   "execution_count": 30,
   "id": "0d8d80da",
   "metadata": {
    "ExecuteTime": {
     "end_time": "2022-08-27T18:02:00.699575Z",
     "start_time": "2022-08-27T18:01:45.553228Z"
    }
   },
   "outputs": [],
   "source": [
    "rfm=orders_customers.groupby('customer_unique_id').agg(\n",
    "        {'order_purchase_timestamp':lambda x:(max_date-pd.to_datetime(x.max())).days,\n",
    "         'customer_id':'count',\n",
    "         'price':'sum'\n",
    "       }).reset_index()\n",
    "\n",
    "rfm.columns=['customer_id','recency','frequency','monetary']"
   ]
  },
  {
   "cell_type": "code",
   "execution_count": 31,
   "id": "5daec289",
   "metadata": {
    "ExecuteTime": {
     "end_time": "2022-08-27T18:02:08.154948Z",
     "start_time": "2022-08-27T18:02:08.143977Z"
    }
   },
   "outputs": [
    {
     "data": {
      "text/plain": [
       "count    95420.000000\n",
       "mean       243.600377\n",
       "std        153.160320\n",
       "min          1.000000\n",
       "25%        119.000000\n",
       "50%        224.000000\n",
       "75%        353.000000\n",
       "max        729.000000\n",
       "Name: recency, dtype: float64"
      ]
     },
     "execution_count": 31,
     "metadata": {},
     "output_type": "execute_result"
    }
   ],
   "source": [
    "rfm['recency'].describe()"
   ]
  },
  {
   "cell_type": "code",
   "execution_count": 32,
   "id": "7b25298c",
   "metadata": {
    "ExecuteTime": {
     "end_time": "2022-08-27T18:02:19.265026Z",
     "start_time": "2022-08-27T18:02:18.992104Z"
    }
   },
   "outputs": [
    {
     "data": {
      "text/plain": [
       "<AxesSubplot:xlabel='recency', ylabel='Count'>"
      ]
     },
     "execution_count": 32,
     "metadata": {},
     "output_type": "execute_result"
    },
    {
     "data": {
      "image/png": "[encoded data removed]",
      "text/plain": [
       "<Figure size 432x288 with 1 Axes>"
      ]
     },
     "metadata": {
      "needs_background": "light"
     },
     "output_type": "display_data"
    }
   ],
   "source": [
    "sns.histplot(rfm['recency'])"
   ]
  },
  {
   "cell_type": "code",
   "execution_count": 33,
   "id": "f8d8ae1d",
   "metadata": {
    "ExecuteTime": {
     "end_time": "2022-08-27T18:02:46.714373Z",
     "start_time": "2022-08-27T18:02:46.706396Z"
    }
   },
   "outputs": [
    {
     "data": {
      "text/plain": [
       "count    95420.000000\n",
       "mean         1.034018\n",
       "std          0.211234\n",
       "min          1.000000\n",
       "25%          1.000000\n",
       "50%          1.000000\n",
       "75%          1.000000\n",
       "max         16.000000\n",
       "Name: frequency, dtype: float64"
      ]
     },
     "execution_count": 33,
     "metadata": {},
     "output_type": "execute_result"
    }
   ],
   "source": [
    "rfm['frequency'].describe()"
   ]
  },
  {
   "cell_type": "code",
   "execution_count": 34,
   "id": "9d3ff674",
   "metadata": {
    "ExecuteTime": {
     "end_time": "2022-08-27T18:02:57.659091Z",
     "start_time": "2022-08-27T18:02:57.651112Z"
    }
   },
   "outputs": [
    {
     "data": {
      "text/plain": [
       "count    95420.000000\n",
       "mean       142.440198\n",
       "std        217.656355\n",
       "min          0.850000\n",
       "25%         47.900000\n",
       "50%         89.900000\n",
       "75%        155.000000\n",
       "max      13440.000000\n",
       "Name: monetary, dtype: float64"
      ]
     },
     "execution_count": 34,
     "metadata": {},
     "output_type": "execute_result"
    }
   ],
   "source": [
    "rfm['monetary'].describe()"
   ]
  },
  {
   "cell_type": "markdown",
   "id": "b6ccbffe",
   "metadata": {},
   "source": [
    "## K-means grouping"
   ]
  },
  {
   "cell_type": "code",
   "execution_count": 35,
   "id": "645794bd",
   "metadata": {
    "ExecuteTime": {
     "end_time": "2022-08-27T18:12:36.727650Z",
     "start_time": "2022-08-27T18:12:36.716679Z"
    }
   },
   "outputs": [],
   "source": [
    "def k_means_group(data, n_clusters, random_state, asc=False, log_transf=False, standard_tranf=False):\n",
    "    \n",
    "    data_temp = data.copy()\n",
    "    if log_transf:\n",
    "        data_temp = np.log(data_temp) + 1\n",
    "        \n",
    "    if standard_tranf:\n",
    "        scaler = StandardScaler()\n",
    "        scaler = scaler.fit(data_temp)\n",
    "        data_temp = scaler.transform(data_temp)\n",
    "        \n",
    "    kmeans_sel = KMeans(n_clusters=n_clusters, random_state=random_state).fit(data_temp)\n",
    "    \n",
    "    cluster_group = data.assign(cluster = kmeans_sel.labels_)\n",
    "    \n",
    "    mean_group = cluster_group.groupby('cluster').mean().reset_index()\n",
    "    mean_group = mean_group.sort_values(by=mean_group.columns[1],ascending=asc)\n",
    "    mean_group['cluster_set'] = [i for i in range(n_clusters, 0, -1) ]\n",
    "    \n",
    "    cluster_map = mean_group.set_index('cluster').to_dict()['cluster_set']\n",
    "    \n",
    "    return cluster_group['cluster'].map(cluster_map)"
   ]
  },
  {
   "cell_type": "code",
   "execution_count": 36,
   "id": "14bc7105",
   "metadata": {
    "ExecuteTime": {
     "end_time": "2022-08-27T18:12:50.594113Z",
     "start_time": "2022-08-27T18:12:48.529906Z"
    }
   },
   "outputs": [],
   "source": [
    "r_labels = k_means_group(rfm[['recency']],5,1,asc=True)\n",
    "f_labels = k_means_group(rfm[['frequency']],5,1)\n",
    "m_labels = k_means_group(rfm[['monetary']],5,1)\n",
    "\n",
    "rfm = rfm.assign(R = r_labels, F = f_labels, M = m_labels)"
   ]
  },
  {
   "cell_type": "code",
   "execution_count": 37,
   "id": "2e907bd2",
   "metadata": {
    "ExecuteTime": {
     "end_time": "2022-08-27T18:13:05.538665Z",
     "start_time": "2022-08-27T18:13:05.507732Z"
    }
   },
   "outputs": [
    {
     "data": {
      "text/html": [
       "<div>\n",
       "<style scoped>\n",
       "    .dataframe tbody tr th:only-of-type {\n",
       "        vertical-align: middle;\n",
       "    }\n",
       "\n",
       "    .dataframe tbody tr th {\n",
       "        vertical-align: top;\n",
       "    }\n",
       "\n",
       "    .dataframe thead th {\n",
       "        text-align: right;\n",
       "    }\n",
       "</style>\n",
       "<table border=\"1\" class=\"dataframe\">\n",
       "  <thead>\n",
       "    <tr style=\"text-align: right;\">\n",
       "      <th></th>\n",
       "      <th>count</th>\n",
       "      <th>mean</th>\n",
       "      <th>std</th>\n",
       "      <th>min</th>\n",
       "      <th>25%</th>\n",
       "      <th>50%</th>\n",
       "      <th>75%</th>\n",
       "      <th>max</th>\n",
       "    </tr>\n",
       "    <tr>\n",
       "      <th>R</th>\n",
       "      <th></th>\n",
       "      <th></th>\n",
       "      <th></th>\n",
       "      <th></th>\n",
       "      <th></th>\n",
       "      <th></th>\n",
       "      <th></th>\n",
       "      <th></th>\n",
       "    </tr>\n",
       "  </thead>\n",
       "  <tbody>\n",
       "    <tr>\n",
       "      <th>1</th>\n",
       "      <td>12385.0</td>\n",
       "      <td>514.573759</td>\n",
       "      <td>50.444994</td>\n",
       "      <td>447.0</td>\n",
       "      <td>474.0</td>\n",
       "      <td>507.0</td>\n",
       "      <td>546.0</td>\n",
       "      <td>729.0</td>\n",
       "    </tr>\n",
       "    <tr>\n",
       "      <th>2</th>\n",
       "      <td>15934.0</td>\n",
       "      <td>379.632672</td>\n",
       "      <td>35.570759</td>\n",
       "      <td>321.0</td>\n",
       "      <td>349.0</td>\n",
       "      <td>379.0</td>\n",
       "      <td>410.0</td>\n",
       "      <td>446.0</td>\n",
       "    </tr>\n",
       "    <tr>\n",
       "      <th>3</th>\n",
       "      <td>22881.0</td>\n",
       "      <td>262.040208</td>\n",
       "      <td>31.058581</td>\n",
       "      <td>209.0</td>\n",
       "      <td>234.0</td>\n",
       "      <td>266.0</td>\n",
       "      <td>284.0</td>\n",
       "      <td>320.0</td>\n",
       "    </tr>\n",
       "    <tr>\n",
       "      <th>4</th>\n",
       "      <td>24281.0</td>\n",
       "      <td>155.651950</td>\n",
       "      <td>30.192414</td>\n",
       "      <td>105.0</td>\n",
       "      <td>129.0</td>\n",
       "      <td>155.0</td>\n",
       "      <td>182.0</td>\n",
       "      <td>208.0</td>\n",
       "    </tr>\n",
       "    <tr>\n",
       "      <th>5</th>\n",
       "      <td>19939.0</td>\n",
       "      <td>52.518080</td>\n",
       "      <td>27.072252</td>\n",
       "      <td>1.0</td>\n",
       "      <td>29.0</td>\n",
       "      <td>48.0</td>\n",
       "      <td>76.0</td>\n",
       "      <td>104.0</td>\n",
       "    </tr>\n",
       "  </tbody>\n",
       "</table>\n",
       "</div>"
      ],
      "text/plain": [
       "     count        mean        std    min    25%    50%    75%    max\n",
       "R                                                                   \n",
       "1  12385.0  514.573759  50.444994  447.0  474.0  507.0  546.0  729.0\n",
       "2  15934.0  379.632672  35.570759  321.0  349.0  379.0  410.0  446.0\n",
       "3  22881.0  262.040208  31.058581  209.0  234.0  266.0  284.0  320.0\n",
       "4  24281.0  155.651950  30.192414  105.0  129.0  155.0  182.0  208.0\n",
       "5  19939.0   52.518080  27.072252    1.0   29.0   48.0   76.0  104.0"
      ]
     },
     "execution_count": 37,
     "metadata": {},
     "output_type": "execute_result"
    }
   ],
   "source": [
    "rfm.groupby('R')['recency'].describe()"
   ]
  },
  {
   "cell_type": "code",
   "execution_count": 38,
   "id": "eb68cad3",
   "metadata": {
    "ExecuteTime": {
     "end_time": "2022-08-27T18:13:14.412260Z",
     "start_time": "2022-08-27T18:13:14.373998Z"
    }
   },
   "outputs": [
    {
     "data": {
      "text/html": [
       "<div>\n",
       "<style scoped>\n",
       "    .dataframe tbody tr th:only-of-type {\n",
       "        vertical-align: middle;\n",
       "    }\n",
       "\n",
       "    .dataframe tbody tr th {\n",
       "        vertical-align: top;\n",
       "    }\n",
       "\n",
       "    .dataframe thead th {\n",
       "        text-align: right;\n",
       "    }\n",
       "</style>\n",
       "<table border=\"1\" class=\"dataframe\">\n",
       "  <thead>\n",
       "    <tr style=\"text-align: right;\">\n",
       "      <th></th>\n",
       "      <th>count</th>\n",
       "      <th>mean</th>\n",
       "      <th>std</th>\n",
       "      <th>min</th>\n",
       "      <th>25%</th>\n",
       "      <th>50%</th>\n",
       "      <th>75%</th>\n",
       "      <th>max</th>\n",
       "    </tr>\n",
       "    <tr>\n",
       "      <th>F</th>\n",
       "      <th></th>\n",
       "      <th></th>\n",
       "      <th></th>\n",
       "      <th></th>\n",
       "      <th></th>\n",
       "      <th></th>\n",
       "      <th></th>\n",
       "      <th></th>\n",
       "    </tr>\n",
       "  </thead>\n",
       "  <tbody>\n",
       "    <tr>\n",
       "      <th>1</th>\n",
       "      <td>92507.0</td>\n",
       "      <td>1.000000</td>\n",
       "      <td>0.000000</td>\n",
       "      <td>1.0</td>\n",
       "      <td>1.0</td>\n",
       "      <td>1.0</td>\n",
       "      <td>1.0</td>\n",
       "      <td>1.0</td>\n",
       "    </tr>\n",
       "    <tr>\n",
       "      <th>2</th>\n",
       "      <td>2673.0</td>\n",
       "      <td>2.000000</td>\n",
       "      <td>0.000000</td>\n",
       "      <td>2.0</td>\n",
       "      <td>2.0</td>\n",
       "      <td>2.0</td>\n",
       "      <td>2.0</td>\n",
       "      <td>2.0</td>\n",
       "    </tr>\n",
       "    <tr>\n",
       "      <th>3</th>\n",
       "      <td>221.0</td>\n",
       "      <td>3.131222</td>\n",
       "      <td>0.338409</td>\n",
       "      <td>3.0</td>\n",
       "      <td>3.0</td>\n",
       "      <td>3.0</td>\n",
       "      <td>3.0</td>\n",
       "      <td>4.0</td>\n",
       "    </tr>\n",
       "    <tr>\n",
       "      <th>4</th>\n",
       "      <td>18.0</td>\n",
       "      <td>5.833333</td>\n",
       "      <td>1.098127</td>\n",
       "      <td>5.0</td>\n",
       "      <td>5.0</td>\n",
       "      <td>5.5</td>\n",
       "      <td>6.0</td>\n",
       "      <td>9.0</td>\n",
       "    </tr>\n",
       "    <tr>\n",
       "      <th>5</th>\n",
       "      <td>1.0</td>\n",
       "      <td>16.000000</td>\n",
       "      <td>NaN</td>\n",
       "      <td>16.0</td>\n",
       "      <td>16.0</td>\n",
       "      <td>16.0</td>\n",
       "      <td>16.0</td>\n",
       "      <td>16.0</td>\n",
       "    </tr>\n",
       "  </tbody>\n",
       "</table>\n",
       "</div>"
      ],
      "text/plain": [
       "     count       mean       std   min   25%   50%   75%   max\n",
       "F                                                            \n",
       "1  92507.0   1.000000  0.000000   1.0   1.0   1.0   1.0   1.0\n",
       "2   2673.0   2.000000  0.000000   2.0   2.0   2.0   2.0   2.0\n",
       "3    221.0   3.131222  0.338409   3.0   3.0   3.0   3.0   4.0\n",
       "4     18.0   5.833333  1.098127   5.0   5.0   5.5   6.0   9.0\n",
       "5      1.0  16.000000       NaN  16.0  16.0  16.0  16.0  16.0"
      ]
     },
     "execution_count": 38,
     "metadata": {},
     "output_type": "execute_result"
    }
   ],
   "source": [
    "rfm.groupby('F')['frequency'].describe()"
   ]
  }
 ],
 "metadata": {
  "kernelspec": {
   "display_name": "Python 3",
   "language": "python",
   "name": "python3"
  },
  "language_info": {
   "codemirror_mode": {
    "name": "ipython",
    "version": 3
   },
   "file_extension": ".py",
   "mimetype": "text/x-python",
   "name": "python",
   "nbconvert_exporter": "python",
   "pygments_lexer": "ipython3",
   "version": "3.8.8"
  },
  "varInspector": {
   "cols": {
    "lenName": 16,
    "lenType": 16,
    "lenVar": 40
   },
   "kernels_config": {
    "python": {
     "delete_cmd_postfix": "",
     "delete_cmd_prefix": "del ",
     "library": "var_list.py",
     "varRefreshCmd": "print(var_dic_list())"
    },
    "r": {
     "delete_cmd_postfix": ") ",
     "delete_cmd_prefix": "rm(",
     "library": "var_list.r",
     "varRefreshCmd": "cat(var_dic_list()) "
    }
   },
   "types_to_exclude": [
    "module",
    "function",
    "builtin_function_or_method",
    "instance",
    "_Feature"
   ],
   "window_display": false
  }
 },
 "nbformat": 4,
 "nbformat_minor": 5
}
